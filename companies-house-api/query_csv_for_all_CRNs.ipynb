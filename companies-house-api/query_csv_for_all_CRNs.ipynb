{
 "cells": [
  {
   "cell_type": "markdown",
   "metadata": {},
   "source": [
    "# Code on filtering GPG data csv to retrieve all of CRNs to query Companies House API"
   ]
  },
  {
   "cell_type": "code",
   "execution_count": 1,
   "metadata": {},
   "outputs": [],
   "source": [
    "import pandas as pd\n",
    "import time\n",
    "from query_companies_house import *"
   ]
  },
  {
   "cell_type": "code",
   "execution_count": 2,
   "metadata": {},
   "outputs": [],
   "source": [
    "df = pd.read_csv(\"UK_Gender_Pay_Gap_Data_2017_to_2018.csv\")"
   ]
  },
  {
   "cell_type": "code",
   "execution_count": 3,
   "metadata": {},
   "outputs": [
    {
     "data": {
      "text/plain": [
       "Index(['EmployerName', 'Address', 'CompanyNumber', 'SicCodes',\n",
       "       'DiffMeanHourlyPercent', 'DiffMedianHourlyPercent',\n",
       "       'DiffMeanBonusPercent', 'DiffMedianBonusPercent', 'MaleBonusPercent',\n",
       "       'FemaleBonusPercent', 'MaleLowerQuartile', 'FemaleLowerQuartile',\n",
       "       'MaleLowerMiddleQuartile', 'FemaleLowerMiddleQuartile',\n",
       "       'MaleUpperMiddleQuartile', 'FemaleUpperMiddleQuartile',\n",
       "       'MaleTopQuartile', 'FemaleTopQuartile', 'CompanyLinkToGPGInfo',\n",
       "       'ResponsiblePerson', 'EmployerSize', 'CurrentName',\n",
       "       'SubmittedAfterTheDeadline'],\n",
       "      dtype='object')"
      ]
     },
     "execution_count": 3,
     "metadata": {},
     "output_type": "execute_result"
    }
   ],
   "source": [
    "df.columns"
   ]
  },
  {
   "cell_type": "code",
   "execution_count": 4,
   "metadata": {},
   "outputs": [
    {
     "data": {
      "text/plain": [
       "array(['00226143', 'SC016876', '03951948', ..., '03843124', '08563366',\n",
       "       '01032611'], dtype=object)"
      ]
     },
     "execution_count": 4,
     "metadata": {},
     "output_type": "execute_result"
    }
   ],
   "source": [
    "df.CompanyNumber.values"
   ]
  },
  {
   "cell_type": "code",
   "execution_count": 5,
   "metadata": {},
   "outputs": [
    {
     "data": {
      "text/plain": [
       "10513"
      ]
     },
     "execution_count": 5,
     "metadata": {},
     "output_type": "execute_result"
    }
   ],
   "source": [
    "len(df)"
   ]
  },
  {
   "cell_type": "code",
   "execution_count": 6,
   "metadata": {},
   "outputs": [],
   "source": [
    "no_nans = df.dropna(subset=['CompanyNumber'])"
   ]
  },
  {
   "cell_type": "code",
   "execution_count": 7,
   "metadata": {},
   "outputs": [
    {
     "data": {
      "text/plain": [
       "9167"
      ]
     },
     "execution_count": 7,
     "metadata": {},
     "output_type": "execute_result"
    }
   ],
   "source": [
    "len(no_nans)"
   ]
  },
  {
   "cell_type": "code",
   "execution_count": 8,
   "metadata": {},
   "outputs": [],
   "source": [
    "company_numbers = no_nans.CompanyNumber.values"
   ]
  },
  {
   "cell_type": "code",
   "execution_count": 9,
   "metadata": {},
   "outputs": [],
   "source": [
    "def chunk_maker(iterable, size):\n",
    "    for i in range(0, len(iterable), size):\n",
    "        yield iterable[i:i + size]\n",
    "        \n",
    "\n"
   ]
  },
  {
   "cell_type": "code",
   "execution_count": null,
   "metadata": {},
   "outputs": [],
   "source": [
    "count = 0\n",
    "for chunk in chunk_maker(company_numbers, 250):\n",
    "    for company_num in chunk:\n",
    "        format_active_officers_info(query_company_name, query_officers_info, company_num)\n",
    "        count += 1\n",
    "        print(count)\n",
    "    time.sleep(300 * 2)"
   ]
  }
 ],
 "metadata": {
  "kernelspec": {
   "display_name": "Python 3",
   "language": "python",
   "name": "python3"
  },
  "language_info": {
   "codemirror_mode": {
    "name": "ipython",
    "version": 3
   },
   "file_extension": ".py",
   "mimetype": "text/x-python",
   "name": "python",
   "nbconvert_exporter": "python",
   "pygments_lexer": "ipython3",
   "version": "3.6.5"
  }
 },
 "nbformat": 4,
 "nbformat_minor": 2
}
